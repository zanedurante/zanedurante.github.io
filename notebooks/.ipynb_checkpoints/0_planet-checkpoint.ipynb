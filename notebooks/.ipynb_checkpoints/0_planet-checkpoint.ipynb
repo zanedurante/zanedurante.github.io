{
 "cells": [
  {
   "cell_type": "markdown",
   "metadata": {},
   "source": [
    "<h1>Satellite Image Classifier</h1>\n",
    "<p> Created by Zane Durante </p>\n",
    "<p>\n",
    "My attempt at the 2017 Kaggle Competition: Planet: Understanding the Amazon through Space.\n",
    "The dataset is a set of satellite images from the amazon with certain qualitative descriptors\n",
    "e.g. Partially cloudy, clear, primarily forest, etc.  For our metric, we will be using an f2 score because it is a multi-label problem.\n",
    "</p>\n",
    "<p>\n",
    "I will be using the fast.ai deep learning library to create and train a convolutional image classifier.\n",
    "</p>"
   ]
  },
  {
   "cell_type": "markdown",
   "metadata": {},
   "source": [
    "<h3> Step 1. Load the dataset </h3>\n",
    "<p>\n",
    "    The dataset is located in a folder labeled `data/planet` in the same location as this jupyter notebook.\n",
    "</p>"
   ]
  },
  {
   "cell_type": "code",
   "execution_count": 1,
   "metadata": {
    "collapsed": true
   },
   "outputs": [],
   "source": [
    "# Put these at the top of every notebook, to get automatic reloading and inline plotting\n",
    "%reload_ext autoreload\n",
    "%autoreload 2\n",
    "%matplotlib inline"
   ]
  },
  {
   "cell_type": "code",
   "execution_count": 2,
   "metadata": {},
   "outputs": [
    {
     "name": "stderr",
     "output_type": "stream",
     "text": [
      "/home/paperspace/anaconda3/envs/fastai/lib/python3.6/site-packages/sklearn/ensemble/weight_boosting.py:29: DeprecationWarning: numpy.core.umath_tests is an internal NumPy module and should not be imported. It will be removed in a future NumPy release.\n",
      "  from numpy.core.umath_tests import inner1d\n"
     ]
    }
   ],
   "source": [
    "from fastai.imports import *\n",
    "from fastai.transforms import *\n",
    "from fastai.conv_learner import *\n",
    "from fastai.model import *\n",
    "from fastai.dataset import *\n",
    "from fastai.sgdr import *\n",
    "from fastai.plots import *\n",
    "from planet import f2\n",
    "\n",
    "metrics = [f2] # This is the metric that was used in the kaggle competition\n",
    "path = 'data/planet/'\n",
    "batch_size = 64\n",
    "image_size = 299\n",
    "arch = resnet34 # Using a resnet34 architecture\n",
    "label_csv = path + 'train_v2.csv'"
   ]
  },
  {
   "cell_type": "code",
   "execution_count": 3,
   "metadata": {},
   "outputs": [
    {
     "name": "stdout",
     "output_type": "stream",
     "text": [
      "Files: ['test_v2_file_mapping.csv', 'train-jpg', 'README.md', 'README.md.save', 'models', 'test-jpg', 'train_v2.csv', 'tmp']\n",
      "CSV: data/planet/train_v2.csv\n"
     ]
    }
   ],
   "source": [
    "files = os.listdir(path)\n",
    "print(\"Files:\", files)\n",
    "print(\"CSV:\", label_csv)"
   ]
  },
  {
   "cell_type": "code",
   "execution_count": 4,
   "metadata": {
    "collapsed": true
   },
   "outputs": [],
   "source": [
    "# Create function to load in data\n",
    "def load_data(path, csv):\n",
    "    n = len(list(open(label_csv))) - 1 # Number of images in training dataset - 1 (list of indices)\n",
    "    val_idxs = get_cv_idxs(n) # Get validation indices from list of max index n\n",
    "    tfms = tfms_from_model(arch, image_size, aug_tfms=transforms_top_down, max_zoom=1.05) # Data augmentation and transforms\n",
    "    return ImageClassifierData.from_csv(path, 'train-jpg', csv, bs=batch_size, tfms=tfms, val_idxs=val_idxs, suffix='.jpg', \n",
    "                                        test_name='test-jpg')"
   ]
  },
  {
   "cell_type": "code",
   "execution_count": 5,
   "metadata": {
    "collapsed": true
   },
   "outputs": [],
   "source": [
    "data = load_data(path, label_csv)"
   ]
  },
  {
   "cell_type": "markdown",
   "metadata": {},
   "source": [
    "<h3>Step 2. Create the model </h3>\n",
    "<p>\n",
    "    We will create a pretrained model (on imagenet dataset) from our predesignated architecture (resnet34).\n",
    "</p>"
   ]
  },
  {
   "cell_type": "code",
   "execution_count": 6,
   "metadata": {
    "collapsed": true
   },
   "outputs": [],
   "source": [
    "learn = ConvLearner.pretrained(arch, data, metrics=metrics, precompute=True)"
   ]
  },
  {
   "cell_type": "markdown",
   "metadata": {},
   "source": [
    "<h3>Step 3. Find learning rate</h3>\n",
    "<p>\n",
    "    For this step, we will be using the fast.ai lr_find() method which calculates the loss as the learning rate changes over time.  We want to find the maximum value of the learning rate such that we maintain a significant decrease in loss.\n",
    "</p>"
   ]
  },
  {
   "cell_type": "code",
   "execution_count": 7,
   "metadata": {},
   "outputs": [
    {
     "data": {
      "application/vnd.jupyter.widget-view+json": {
       "model_id": "8e6df6434c57488b911c5525570dc810",
       "version_major": 2,
       "version_minor": 0
      },
      "text/plain": [
       "HBox(children=(IntProgress(value=0, description='Epoch', max=1, style=ProgressStyle(description_width='initial…"
      ]
     },
     "metadata": {},
     "output_type": "display_data"
    },
    {
     "name": "stdout",
     "output_type": "stream",
     "text": [
      "epoch      trn_loss   val_loss   f2                          \n",
      "    0      0.207403   0.29875    0.806314  \n",
      "\n"
     ]
    },
    {
     "data": {
      "image/png": "[encoded data removed]",
      "text/plain": [
       "<Figure size 432x288 with 1 Axes>"
      ]
     },
     "metadata": {
      "needs_background": "light"
     },
     "output_type": "display_data"
    }
   ],
   "source": [
    "learn.lr_find()\n",
    "learn.sched.plot()"
   ]
  },
  {
   "cell_type": "code",
   "execution_count": 8,
   "metadata": {
    "collapsed": true
   },
   "outputs": [],
   "source": [
    "# It seems like our learning rate decreases until it has a value of ~1, so lets put it at a value of .1\n",
    "lr = .1"
   ]
  },
  {
   "cell_type": "markdown",
   "metadata": {},
   "source": [
    "<h3>Step 4. Train frozen model on dataset </h3>\n",
    "<p>\n",
    "    Here, we are not changing our underlying resnet architecture, but are simply training the final activation layer from the \n",
    "    convolutional layers to predict the correct labels from our satellite images.\n",
    "</p>\n",
    "<p>\n",
    "    We will be using Stochastic Gradient Descent with Restarts (SGDR), a gradient descent method where after a specified number of epochs, our learning rate jumps back to its initial value after previously decreasing throughout the epoch(s). We start with having these cycles once an epoch, but double the length of the cycle each time one completes.\n",
    "</p>"
   ]
  },
  {
   "cell_type": "code",
   "execution_count": 9,
   "metadata": {},
   "outputs": [
    {
     "data": {
      "application/vnd.jupyter.widget-view+json": {
       "model_id": "61b245dd1b3d4bb59a871cd50b924512",
       "version_major": 2,
       "version_minor": 0
      },
      "text/plain": [
       "HBox(children=(IntProgress(value=0, description='Epoch', max=7, style=ProgressStyle(description_width='initial…"
      ]
     },
     "metadata": {},
     "output_type": "display_data"
    },
    {
     "name": "stdout",
     "output_type": "stream",
     "text": [
      "epoch      trn_loss   val_loss   f2                          \n",
      "    0      0.14585    0.122369   0.896767  \n",
      "    1      0.127903   0.114437   0.901848                    \n",
      "    2      0.12328    0.113142   0.904148                    \n",
      "    3      0.122848   0.110639   0.906711                    \n",
      "    4      0.118763   0.108598   0.908121                    \n",
      "    5      0.119033   0.10693    0.91069                     \n",
      "    6      0.117488   0.107685   0.909933                    \n",
      "\n"
     ]
    },
    {
     "data": {
      "text/plain": [
       "[array([0.10769]), 0.9099334237801925]"
      ]
     },
     "execution_count": 9,
     "metadata": {},
     "output_type": "execute_result"
    }
   ],
   "source": [
    "learn.fit(lr, 3, cycle_len=1, cycle_mult=2)"
   ]
  },
  {
   "cell_type": "code",
   "execution_count": 10,
   "metadata": {},
   "outputs": [
    {
     "data": {
      "image/png": "[encoded data removed]",
      "text/plain": [
       "<Figure size 432x288 with 1 Axes>"
      ]
     },
     "metadata": {
      "needs_background": "light"
     },
     "output_type": "display_data"
    }
   ],
   "source": [
    "learn.sched.plot_loss()"
   ]
  },
  {
   "cell_type": "markdown",
   "metadata": {},
   "source": [
    "<h3>Step 5. Train unfrozen model with differential learning rate</h3>\n",
    "<p>\n",
    "    At this step, we will unfreeze the convolutional layers of the model, so that they too can learn information from the dataset.  We will be using a a relatively high learning rate throughout the entire model, even in the convolutional layers, because this satellite image dataset is very different than the dataset (imagenet) that the model was originally trained on.  Because we are now training more layers, this training session will understandably take longer.\n",
    "</p>"
   ]
  },
  {
   "cell_type": "code",
   "execution_count": 11,
   "metadata": {},
   "outputs": [
    {
     "data": {
      "application/vnd.jupyter.widget-view+json": {
       "model_id": "59de6bc89eca4a8e8bb3052ae873b5c6",
       "version_major": 2,
       "version_minor": 0
      },
      "text/plain": [
       "HBox(children=(IntProgress(value=0, description='Epoch', max=7, style=ProgressStyle(description_width='initial…"
      ]
     },
     "metadata": {},
     "output_type": "display_data"
    },
    {
     "name": "stdout",
     "output_type": "stream",
     "text": [
      "epoch      trn_loss   val_loss   f2                          \n",
      "    0      0.11849    0.106305   0.910665  \n",
      "    1      0.120998   0.105807   0.910494                    \n",
      "    2      0.118388   0.105225   0.911216                    \n",
      "    3      0.121165   0.105427   0.911044                    \n",
      "    4      0.121367   0.10428    0.913567                    \n",
      "    5      0.116504   0.103982   0.911921                    \n",
      "    6      0.11619    0.103894   0.912375                    \n",
      "\n"
     ]
    },
    {
     "data": {
      "text/plain": [
       "[array([0.10389]), 0.9123748921682002]"
      ]
     },
     "execution_count": 11,
     "metadata": {},
     "output_type": "execute_result"
    }
   ],
   "source": [
    "# Create learning rates for the different parts of the model, [early conv layers, later conv layers, activation from kernels]\n",
    "lrs = [lr/9, lr/3, lr]\n",
    "learn.unfreeze()\n",
    "learn.fit(lrs, 3, cycle_len=1, cycle_mult=2) # Use same stochastic gradient descent method as before"
   ]
  },
  {
   "cell_type": "code",
   "execution_count": 12,
   "metadata": {},
   "outputs": [
    {
     "data": {
      "image/png": "[encoded data removed]",
      "text/plain": [
       "<Figure size 432x288 with 1 Axes>"
      ]
     },
     "metadata": {
      "needs_background": "light"
     },
     "output_type": "display_data"
    }
   ],
   "source": [
    "learn.sched.plot_loss()"
   ]
  },
  {
   "cell_type": "markdown",
   "metadata": {},
   "source": [
    "<h3>Step 6. Test Time Augmentation and Results</h3>\n",
    "<p>\n",
    "    Overall, our f2 score was .9124 for our validation data.  Although this gives us information on how well we do overall on our validation data, we need to see how well our model generalizes to data that played no part in its training process.  Let's see how we do on the test data!\n",
    "</p>\n",
    "<p>\n",
    "    To try to get better results on the test data, we will be using a technique called Test Time Augmentation (or TTA).  In this technique, every test image undergoes the same data augmentation techniques that we defined earlier.  Then, our model predicts the labels for each of the augmented images.  The final result is the mean of these predictions.\n",
    "</p>"
   ]
  },
  {
   "cell_type": "code",
   "execution_count": 14,
   "metadata": {
    "collapsed": true
   },
   "outputs": [],
   "source": [
    "# Save model\n",
    "os.makedirs('data/planet/models', exist_ok=True)\n",
    "learn.save(f'{image_size}')"
   ]
  },
  {
   "cell_type": "code",
   "execution_count": 63,
   "metadata": {},
   "outputs": [
    {
     "name": "stdout",
     "output_type": "stream",
     "text": [
      "                                             \r"
     ]
    }
   ],
   "source": [
    "# Run Test Time Augmentation and print final f-score\n",
    "tta = learn.TTA()"
   ]
  },
  {
   "cell_type": "code",
   "execution_count": 64,
   "metadata": {},
   "outputs": [
    {
     "data": {
      "text/plain": [
       "0.8804548454510778"
      ]
     },
     "execution_count": 64,
     "metadata": {},
     "output_type": "execute_result"
    }
   ],
   "source": [
    "probs_tta = np.mean(tta[0], 0)\n",
    "preds_tta = np.around(probs_tta) # Rounds to 0 or 1\n",
    "f2(preds_tta, tta[1])"
   ]
  },
  {
   "cell_type": "markdown",
   "metadata": {},
   "source": [
    "<h3> Analysis </h3>\n",
    "<p> \n",
    "    Our f2 score after using Test Time Augmentation was .8805.  Ultimately, the model performed reasonably well, but overfit the training and validation data slightly (we had a .9124 f2 score on validation data, versus .8805 on test data).  Our method can be described as first training the precomputed activations from a pretrained, frozen network to identify correct labels.  Then, we unfreeze the convolutional layers, and train the model with a differential learning rate, where earlier layers train more slowly than later layers.  Finally, with our newly trained model we run Test Time Augmentation to try to maximize our accuracy.\n",
    "</p>\n",
    "<p>\n",
    "    For improving performance, perhaps different models might be more effective than ResNet (i.e. ResNext, VGG, etc.), however using different models may not necessarily lead to better results.  A better method for increasing the f score would likely be starting training on smaller images and then working to larger ones. This method that has been shown to work by Jeremy Howard, and was not used in the training of this model. Overall, any way to combat overfitting within the model would also likely lead to better results.\n",
    "</p>\n",
    "\n",
    "<p>\n",
    "    This notebook was finished on November 4, 2018\n",
    "</p>\n"
   ]
  },
  {
   "cell_type": "code",
   "execution_count": null,
   "metadata": {
    "collapsed": true
   },
   "outputs": [],
   "source": []
  }
 ],
 "metadata": {
  "kernelspec": {
   "display_name": "Python 3",
   "language": "python",
   "name": "python3"
  },
  "language_info": {
   "codemirror_mode": {
    "name": "ipython",
    "version": 3
   },
   "file_extension": ".py",
   "mimetype": "text/x-python",
   "name": "python",
   "nbconvert_exporter": "python",
   "pygments_lexer": "ipython3",
   "version": "3.6.1"
  }
 },
 "nbformat": 4,
 "nbformat_minor": 2
}
