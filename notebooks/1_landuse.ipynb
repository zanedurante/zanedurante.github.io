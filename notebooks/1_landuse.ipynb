{
 "cells": [
  {
   "cell_type": "markdown",
   "metadata": {},
   "source": [
    "<h1>Land Use Classifier</h1>\n",
    "<p> Created by Zane Durante </p>\n",
    "<p>\n",
    "    This is a classifier for categorizing land types by their use (i.e. roads, forest, buidlings, agricultural, etc.).  The data is from the University of California, Merced.  Since this is a simple multi-class classification problem, accuracy is our best metric.\n",
    "</p>\n",
    "<p>\n",
    "    I will be using the fast.ai deep learning library to create and train a convolutional image classifier.\n",
    "</p>\n",
    "<p>\n",
    "    Dataset from: Yi Yang and Shawn Newsam, \"Bag-Of-Visual-Words and Spatial Extensions for Land-Use Classification,\" ACM SIGSPATIAL International Conference on Advances in Geographic Information Systems (ACM GIS), 2010.\n",
    "</p>"
   ]
  },
  {
   "cell_type": "markdown",
   "metadata": {},
   "source": [
    "<h3>Step 1. Load the dataset</h3>\n",
    "<p>\n",
    "    The dataset is in a folder labeled 'data/UCMerced_LandUse' in the same location as this jupyter notebook.\n",
    "</p>"
   ]
  },
  {
   "cell_type": "code",
   "execution_count": 1,
   "metadata": {},
   "outputs": [],
   "source": [
    "# Put these at the top of every notebook, to get automatic reloading and inline plotting\n",
    "%reload_ext autoreload\n",
    "%autoreload 2\n",
    "%matplotlib inline"
   ]
  },
  {
   "cell_type": "code",
   "execution_count": 2,
   "metadata": {},
   "outputs": [
    {
     "name": "stderr",
     "output_type": "stream",
     "text": [
      "/home/paperspace/anaconda3/envs/fastai/lib/python3.6/site-packages/sklearn/ensemble/weight_boosting.py:29: DeprecationWarning: numpy.core.umath_tests is an internal NumPy module and should not be imported. It will be removed in a future NumPy release.\n",
      "  from numpy.core.umath_tests import inner1d\n"
     ]
    }
   ],
   "source": [
    "# Fast.ai imports\n",
    "from fastai.imports import *\n",
    "from fastai.transforms import *\n",
    "from fastai.conv_learner import *\n",
    "from fastai.model import *\n",
    "from fastai.dataset import *\n",
    "from fastai.sgdr import *\n",
    "from fastai.plots import *\n",
    "from fastai.io import *"
   ]
  },
  {
   "cell_type": "code",
   "execution_count": 3,
   "metadata": {},
   "outputs": [],
   "source": [
    "path = 'data/UCMerced_LandUse/'\n",
    "batch_size = 64\n",
    "image_size = 256 # All images within this dataset are 256 x 256\n",
    "arch = resnet34"
   ]
  },
  {
   "cell_type": "code",
   "execution_count": 4,
   "metadata": {},
   "outputs": [
    {
     "name": "stdout",
     "output_type": "stream",
     "text": [
      "Files: ['readme.txt.bak', 'Images', 'readme.txt']\n"
     ]
    }
   ],
   "source": [
    "files = os.listdir(path)\n",
    "print(\"Files:\", files)\n",
    "path += 'Images/'"
   ]
  },
  {
   "cell_type": "code",
   "execution_count": 5,
   "metadata": {},
   "outputs": [],
   "source": [
    "def load_data(path):\n",
    "    tfms = tfms_from_model(arch, image_size, aug_tfms=transforms_top_down, max_zoom=1.05)\n",
    "    data = ImageClassifierData.from_paths(path, tfms=tfms, bs=batch_size)\n",
    "    return data"
   ]
  },
  {
   "cell_type": "code",
   "execution_count": 6,
   "metadata": {},
   "outputs": [],
   "source": [
    "data = load_data(path)"
   ]
  },
  {
   "cell_type": "markdown",
   "metadata": {},
   "source": [
    "<h3>Step 2. Create the model</h3>\n",
    "<p>\n",
    "        For this classification problem, we will be using fast.ai's convolutional learner model, which is pretrained on the imagenet dataset.  First, we will load the model using the default activations from the last layers (i.e. precompute=True).\n",
    "</p>"
   ]
  },
  {
   "cell_type": "code",
   "execution_count": 7,
   "metadata": {},
   "outputs": [],
   "source": [
    "learn=ConvLearner.pretrained(arch, data, precompute=True)"
   ]
  },
  {
   "cell_type": "markdown",
   "metadata": {},
   "source": [
    "<h3> Step 3. Find learning rate </h3>\n",
    "<p>\n",
    "    To find the optimal learning rate of the model, we will use fast.ai's library function lr_find(), which plots the change in loss of the validation data with the learning rate increasing exponentially on the x axis.  We want to choose the highest learning rate that still causes the loss to decrease.\n",
    "</p>"
   ]
  },
  {
   "cell_type": "code",
   "execution_count": 8,
   "metadata": {},
   "outputs": [
    {
     "data": {
      "application/vnd.jupyter.widget-view+json": {
       "model_id": "eae1623d41a64e79811aa737a84d5c3c",
       "version_major": 2,
       "version_minor": 0
      },
      "text/plain": [
       "HBox(children=(IntProgress(value=0, description='Epoch', max=1, style=ProgressStyle(description_width='initial…"
      ]
     },
     "metadata": {},
     "output_type": "display_data"
    },
    {
     "name": "stdout",
     "output_type": "stream",
     "text": [
      "epoch      trn_loss   val_loss   accuracy                \n",
      "    0      3.689463   361.109211 0.290476  \n",
      "\n"
     ]
    },
    {
     "data": {
      "image/png": "[encoded data removed]",
      "text/plain": [
       "<Figure size 432x288 with 1 Axes>"
      ]
     },
     "metadata": {
      "needs_background": "light"
     },
     "output_type": "display_data"
    }
   ],
   "source": [
    "lrf = learn.lr_find()\n",
    "learn.sched.plot()"
   ]
  },
  {
   "cell_type": "code",
   "execution_count": 9,
   "metadata": {},
   "outputs": [],
   "source": [
    "# Since learning rate is decreasing throughout, we'll pick a high value\n",
    "lr = .2"
   ]
  },
  {
   "cell_type": "markdown",
   "metadata": {},
   "source": [
    "<h3> Step 4. Fit frozen model </h3>\n",
    "<p> We will now train the activation layers of the model to predict what type of land we are seeing images of.  The convolutional layers will NOT be trained during this part.  We will be using Stochastic Gradient Descent with Restarts, a method that tries to avoid sub-optimal local minima by gradually decreasing the learning rate and then resetting it to its original value after a set number of epochs.\n",
    "</p>"
   ]
  },
  {
   "cell_type": "code",
   "execution_count": 10,
   "metadata": {},
   "outputs": [
    {
     "data": {
      "application/vnd.jupyter.widget-view+json": {
       "model_id": "f148197df82d4a4a99db21df19ba757e",
       "version_major": 2,
       "version_minor": 0
      },
      "text/plain": [
       "HBox(children=(IntProgress(value=0, description='Epoch', max=4, style=ProgressStyle(description_width='initial…"
      ]
     },
     "metadata": {},
     "output_type": "display_data"
    },
    {
     "name": "stdout",
     "output_type": "stream",
     "text": [
      "epoch      trn_loss   val_loss   accuracy                \n",
      "    0      1.114027   0.844218   0.769048  \n",
      "    1      0.78023    0.891988   0.769048                 \n",
      "    2      0.608263   0.703397   0.788095                 \n",
      "    3      0.484324   0.595591   0.819048                  \n",
      "\n"
     ]
    },
    {
     "data": {
      "text/plain": [
       "[array([0.59559]), 0.8190476167769659]"
      ]
     },
     "execution_count": 10,
     "metadata": {},
     "output_type": "execute_result"
    }
   ],
   "source": [
    "learn.fit(lr, 4, cycle_len=1)"
   ]
  },
  {
   "cell_type": "markdown",
   "metadata": {},
   "source": [
    "<h3>Step 5. Create differential learning rate and now train the unfrozen model</h3>\n",
    "<p>\n",
    "    We will now use a different learning rate for different parts of the model.  The earliest convolutional layers will have the smallest learning rate, with progressively deeper layers having higher learning rates.  \n",
    "<p>"
   ]
  },
  {
   "cell_type": "code",
   "execution_count": 11,
   "metadata": {},
   "outputs": [
    {
     "data": {
      "application/vnd.jupyter.widget-view+json": {
       "model_id": "c8126e1afc5042c4adfee463309fc05c",
       "version_major": 2,
       "version_minor": 0
      },
      "text/plain": [
       "HBox(children=(IntProgress(value=0, description='Epoch', max=4, style=ProgressStyle(description_width='initial…"
      ]
     },
     "metadata": {},
     "output_type": "display_data"
    },
    {
     "name": "stdout",
     "output_type": "stream",
     "text": [
      "epoch      trn_loss   val_loss   accuracy                  \n",
      "    0      0.400064   0.613615   0.828571  \n",
      "    1      0.378954   0.728796   0.816667                  \n",
      "    2      0.342641   0.663865   0.828571                  \n",
      "    3      0.303652   0.600764   0.852381                  \n",
      "\n"
     ]
    },
    {
     "data": {
      "text/plain": [
       "[array([0.60076]), 0.852380953516279]"
      ]
     },
     "execution_count": 11,
     "metadata": {},
     "output_type": "execute_result"
    }
   ],
   "source": [
    "learn.unfreeze()\n",
    "lrs = [lr/9, lr/3, lr]\n",
    "learn.fit(lrs, 2, cycle_len=1, cycle_mult=3)"
   ]
  },
  {
   "cell_type": "markdown",
   "metadata": {},
   "source": [
    "<h3> Step 6. Print loss function</h3>\n",
    "<p>\n",
    "    This loss function is very noisy.  This is possibly do to the very small nature of this dataset (80 training images per category).  \n",
    "</p>"
   ]
  },
  {
   "cell_type": "code",
   "execution_count": 12,
   "metadata": {},
   "outputs": [
    {
     "data": {
      "image/png": "[encoded data removed]",
      "text/plain": [
       "<Figure size 432x288 with 1 Axes>"
      ]
     },
     "metadata": {
      "needs_background": "light"
     },
     "output_type": "display_data"
    }
   ],
   "source": [
    "learn.sched.plot_loss()"
   ]
  },
  {
   "cell_type": "markdown",
   "metadata": {},
   "source": [
    "<h3> Test Time Augmentation and Results</h3>\n",
    "<p>\n",
    "We will use test time augmentation to transform each of our test images into 4 separate augmented images.  Then, we take the mean of our predictions for each of the augmented images to calculate our prediction for the original image.\n",
    "</p>"
   ]
  },
  {
   "cell_type": "code",
   "execution_count": 13,
   "metadata": {},
   "outputs": [
    {
     "name": "stdout",
     "output_type": "stream",
     "text": [
      "Accuracy 0.8833333333333333                  \n"
     ]
    }
   ],
   "source": [
    "log_preds,y = learn.TTA()\n",
    "probs = np.mean(np.exp(log_preds), 0)\n",
    "print(\"Accuracy\", accuracy_np(probs, y))"
   ]
  },
  {
   "cell_type": "markdown",
   "metadata": {},
   "source": [
    "<h3>Analysis</h3>\n",
    "<p>\n",
    "    Our final model had an accuracy of .8833, which is not terrible considering the small size of the dataset.  Additionally, the loss function indicates that our model is having a difficult time converging to a minimum for the dataset, likely due to the large variation within the small number of images in the dataset.  I purposefully ran relatively few epochs when training the model to attempt to counter overfitting the small dataset.  This was shown to be successful, as our validation accuracy was over 3 percent higher than the training data accuracy.  \n",
    "</p>\n",
    "<p>\n",
    "    To improve the model, a larger dataset would clearly allow for a more robust training process, and would certainly increase the accuracy of the model.  Additionally, both the loss function and learning rates graphs were very abnormal.  I assumed this was because of the small size of the dataset, however there may be some other factor contributing to these strange graphs that is also upsetting the accuracy of the model.\n",
    "</p>\n",
    "<p>\n",
    "    This notebook was finished on November 6, 2018\n",
    "</p>"
   ]
  },
  {
   "cell_type": "code",
   "execution_count": null,
   "metadata": {},
   "outputs": [],
   "source": []
  }
 ],
 "metadata": {
  "kernelspec": {
   "display_name": "Python 3",
   "language": "python",
   "name": "python3"
  },
  "language_info": {
   "codemirror_mode": {
    "name": "ipython",
    "version": 3
   },
   "file_extension": ".py",
   "mimetype": "text/x-python",
   "name": "python",
   "nbconvert_exporter": "python",
   "pygments_lexer": "ipython3",
   "version": "3.6.6"
  }
 },
 "nbformat": 4,
 "nbformat_minor": 2
}
